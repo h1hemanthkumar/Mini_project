{
 "cells": [
  {
   "cell_type": "markdown",
   "id": "e9037999-913e-4ae2-9ebf-b68558046414",
   "metadata": {},
   "source": [
    "# Users Data Set cleaning "
   ]
  },
  {
   "cell_type": "code",
   "execution_count": 1,
   "id": "62f2a0d5-c54f-46ae-bc52-4d68fed4dc2b",
   "metadata": {},
   "outputs": [],
   "source": [
    "import pandas as pd \n",
    "import numpy as np\n",
    "import matplotlib.pyplot as plt"
   ]
  },
  {
   "cell_type": "code",
   "execution_count": 2,
   "id": "cb1361fa-88aa-4de6-8374-01b657954795",
   "metadata": {},
   "outputs": [],
   "source": [
    "users=pd.read_csv(\"users.csv\")"
   ]
  },
  {
   "cell_type": "code",
   "execution_count": 3,
   "id": "dd252af1-c25a-4afa-aecb-94831cf26028",
   "metadata": {},
   "outputs": [
    {
     "data": {
      "text/html": [
       "<div>\n",
       "<style scoped>\n",
       "    .dataframe tbody tr th:only-of-type {\n",
       "        vertical-align: middle;\n",
       "    }\n",
       "\n",
       "    .dataframe tbody tr th {\n",
       "        vertical-align: top;\n",
       "    }\n",
       "\n",
       "    .dataframe thead th {\n",
       "        text-align: right;\n",
       "    }\n",
       "</style>\n",
       "<table border=\"1\" class=\"dataframe\">\n",
       "  <thead>\n",
       "    <tr style=\"text-align: right;\">\n",
       "      <th></th>\n",
       "      <th>user_id</th>\n",
       "      <th>name</th>\n",
       "      <th>email</th>\n",
       "      <th>age</th>\n",
       "      <th>country</th>\n",
       "      <th>date</th>\n",
       "    </tr>\n",
       "  </thead>\n",
       "  <tbody>\n",
       "    <tr>\n",
       "      <th>0</th>\n",
       "      <td>15000</td>\n",
       "      <td>James Scott</td>\n",
       "      <td>james.scott660@gmail.com</td>\n",
       "      <td>35</td>\n",
       "      <td>India</td>\n",
       "      <td>2024-11-01</td>\n",
       "    </tr>\n",
       "    <tr>\n",
       "      <th>1</th>\n",
       "      <td>15001</td>\n",
       "      <td>Sharon Ferrell</td>\n",
       "      <td>sharon.ferrell49@gmail.com</td>\n",
       "      <td>26</td>\n",
       "      <td>Australia</td>\n",
       "      <td>2024-11-01</td>\n",
       "    </tr>\n",
       "    <tr>\n",
       "      <th>2</th>\n",
       "      <td>15002</td>\n",
       "      <td>Chelsea Ortiz</td>\n",
       "      <td>chelsea.ortiz643@gmail.com</td>\n",
       "      <td>38</td>\n",
       "      <td>United Kingdom</td>\n",
       "      <td>2024-11-01</td>\n",
       "    </tr>\n",
       "    <tr>\n",
       "      <th>3</th>\n",
       "      <td>15003</td>\n",
       "      <td>Gregory Pearson</td>\n",
       "      <td>gregory.pearson379@gmail.com</td>\n",
       "      <td>52</td>\n",
       "      <td>United Kingdom</td>\n",
       "      <td>2024-11-01</td>\n",
       "    </tr>\n",
       "    <tr>\n",
       "      <th>4</th>\n",
       "      <td>15004</td>\n",
       "      <td>Connie Gonzales</td>\n",
       "      <td>connie.gonzales481@gmail.com</td>\n",
       "      <td>43</td>\n",
       "      <td>Australia</td>\n",
       "      <td>2024-11-01</td>\n",
       "    </tr>\n",
       "    <tr>\n",
       "      <th>5</th>\n",
       "      <td>15005</td>\n",
       "      <td>Kelly Fields</td>\n",
       "      <td>kelly.fields561@gmail.com</td>\n",
       "      <td>20</td>\n",
       "      <td>United States</td>\n",
       "      <td>2024-11-01</td>\n",
       "    </tr>\n",
       "    <tr>\n",
       "      <th>6</th>\n",
       "      <td>15005</td>\n",
       "      <td>Kelly Fields</td>\n",
       "      <td>kelly.fields561@gmail.com</td>\n",
       "      <td>20</td>\n",
       "      <td>United States</td>\n",
       "      <td>2024-11-01</td>\n",
       "    </tr>\n",
       "    <tr>\n",
       "      <th>7</th>\n",
       "      <td>15006</td>\n",
       "      <td>Kristina Thomas</td>\n",
       "      <td>kristina.thomas827@gmail.com</td>\n",
       "      <td>151</td>\n",
       "      <td>Australia</td>\n",
       "      <td>2024-11-01</td>\n",
       "    </tr>\n",
       "    <tr>\n",
       "      <th>8</th>\n",
       "      <td>15007</td>\n",
       "      <td>Lisa Rodriguez</td>\n",
       "      <td>lisa.rodriguez336@gmail.com</td>\n",
       "      <td>19</td>\n",
       "      <td>United Kingdom</td>\n",
       "      <td>2024-11-01</td>\n",
       "    </tr>\n",
       "    <tr>\n",
       "      <th>9</th>\n",
       "      <td>15008</td>\n",
       "      <td>Scott Martinez</td>\n",
       "      <td>scott.martinez177@gmail.com</td>\n",
       "      <td>33</td>\n",
       "      <td>France</td>\n",
       "      <td>2024-11-01</td>\n",
       "    </tr>\n",
       "  </tbody>\n",
       "</table>\n",
       "</div>"
      ],
      "text/plain": [
       "   user_id             name                         email  age  \\\n",
       "0    15000      James Scott      james.scott660@gmail.com   35   \n",
       "1    15001   Sharon Ferrell    sharon.ferrell49@gmail.com   26   \n",
       "2    15002    Chelsea Ortiz    chelsea.ortiz643@gmail.com   38   \n",
       "3    15003  Gregory Pearson  gregory.pearson379@gmail.com   52   \n",
       "4    15004  Connie Gonzales  connie.gonzales481@gmail.com   43   \n",
       "5    15005     Kelly Fields     kelly.fields561@gmail.com   20   \n",
       "6    15005     Kelly Fields     kelly.fields561@gmail.com   20   \n",
       "7    15006  Kristina Thomas  kristina.thomas827@gmail.com  151   \n",
       "8    15007   Lisa Rodriguez   lisa.rodriguez336@gmail.com   19   \n",
       "9    15008   Scott Martinez   scott.martinez177@gmail.com   33   \n",
       "\n",
       "          country        date  \n",
       "0           India  2024-11-01  \n",
       "1       Australia  2024-11-01  \n",
       "2  United Kingdom  2024-11-01  \n",
       "3  United Kingdom  2024-11-01  \n",
       "4       Australia  2024-11-01  \n",
       "5   United States  2024-11-01  \n",
       "6   United States  2024-11-01  \n",
       "7       Australia  2024-11-01  \n",
       "8  United Kingdom  2024-11-01  \n",
       "9          France  2024-11-01  "
      ]
     },
     "execution_count": 3,
     "metadata": {},
     "output_type": "execute_result"
    }
   ],
   "source": [
    "users.head(10)"
   ]
  },
  {
   "cell_type": "code",
   "execution_count": 4,
   "id": "9427522f-99fb-4078-a548-6b05ae73b374",
   "metadata": {},
   "outputs": [
    {
     "data": {
      "text/plain": [
       "(2051, 6)"
      ]
     },
     "execution_count": 4,
     "metadata": {},
     "output_type": "execute_result"
    }
   ],
   "source": [
    "users.shape"
   ]
  },
  {
   "cell_type": "code",
   "execution_count": 6,
   "id": "73af2977-eca1-49a8-a5fe-841675f08612",
   "metadata": {},
   "outputs": [],
   "source": [
    "users.drop_duplicates(inplace=True)"
   ]
  },
  {
   "cell_type": "code",
   "execution_count": 7,
   "id": "59410e8f-3814-49a5-9646-46cfcab9a9cd",
   "metadata": {},
   "outputs": [
    {
     "data": {
      "text/plain": [
       "(2010, 6)"
      ]
     },
     "execution_count": 7,
     "metadata": {},
     "output_type": "execute_result"
    }
   ],
   "source": [
    "users.shape"
   ]
  },
  {
   "cell_type": "code",
   "execution_count": 8,
   "id": "abf87c10-84ec-4b21-b400-3831f72f0bab",
   "metadata": {},
   "outputs": [
    {
     "data": {
      "text/plain": [
       "age\n",
       " 20     105\n",
       " 19     105\n",
       " 21      99\n",
       " 18      89\n",
       " 17      86\n",
       " 22      83\n",
       " 23      75\n",
       " 31      69\n",
       " 26      67\n",
       " 29      66\n",
       " 25      64\n",
       " 32      63\n",
       " 36      60\n",
       " 27      59\n",
       " 30      58\n",
       " 35      54\n",
       " 39      53\n",
       " 24      50\n",
       " 37      48\n",
       " 34      45\n",
       " 28      44\n",
       " 38      43\n",
       " 33      42\n",
       " 42      38\n",
       " 44      38\n",
       " 45      37\n",
       " 40      36\n",
       " 43      36\n",
       " 41      34\n",
       " 50      29\n",
       " 49      29\n",
       " 48      28\n",
       " 47      28\n",
       " 46      28\n",
       " 57      13\n",
       " 59      12\n",
       " 52      11\n",
       " 54      11\n",
       " 53      11\n",
       " 58      10\n",
       " 60      10\n",
       " 51       9\n",
       " 56       6\n",
       " 55       6\n",
       " 0        5\n",
       " 153      5\n",
       " 152      4\n",
       " 154      3\n",
       " 151      3\n",
       "-5        3\n",
       "Name: count, dtype: int64"
      ]
     },
     "execution_count": 8,
     "metadata": {},
     "output_type": "execute_result"
    }
   ],
   "source": [
    "users['age'].value_counts()"
   ]
  },
  {
   "cell_type": "code",
   "execution_count": null,
   "id": "5a9d9b07-af8e-4aa6-9083-5508b52ce74b",
   "metadata": {},
   "outputs": [],
   "source": []
  }
 ],
 "metadata": {
  "kernelspec": {
   "display_name": "Python 3 (ipykernel)",
   "language": "python",
   "name": "python3"
  },
  "language_info": {
   "codemirror_mode": {
    "name": "ipython",
    "version": 3
   },
   "file_extension": ".py",
   "mimetype": "text/x-python",
   "name": "python",
   "nbconvert_exporter": "python",
   "pygments_lexer": "ipython3",
   "version": "3.12.10"
  }
 },
 "nbformat": 4,
 "nbformat_minor": 5
}
